{
 "cells": [
  {
   "cell_type": "code",
   "execution_count": 39,
   "id": "EV1a3C-vs6h5",
   "metadata": {
    "id": "EV1a3C-vs6h5"
   },
   "outputs": [],
   "source": [
    "from imblearn.over_sampling import SMOTE\n",
    "from sklearn.feature_selection import SelectKBest, mutual_info_classif\n",
    "from sklearn.model_selection import train_test_split, GridSearchCV\n",
    "from sklearn.neighbors import KNeighborsClassifier\n",
    "from sklearn.preprocessing import MinMaxScaler\n",
    "from sklearn.metrics import confusion_matrix, accuracy_score, precision_score, recall_score, f1_score, mean_squared_error\n",
    "import pandas as pd\n",
    "import numpy as np"
   ]
  },
  {
   "cell_type": "code",
   "execution_count": 40,
   "id": "XBv2AZeUs9xk",
   "metadata": {
    "id": "XBv2AZeUs9xk"
   },
   "outputs": [],
   "source": [
    "# Load the dataset\n",
    "df = pd.read_csv(\"cleanheart_dataset.csv\")"
   ]
  },
  {
   "cell_type": "code",
   "execution_count": 41,
   "id": "0CAg7QNStAvi",
   "metadata": {
    "id": "0CAg7QNStAvi"
   },
   "outputs": [],
   "source": [
    "# Separate the features and target variable\n",
    "X = df.drop(\"HeartDiseaseorAttack\", axis=1)\n",
    "y = df[\"HeartDiseaseorAttack\"]"
   ]
  },
  {
   "cell_type": "code",
   "execution_count": 42,
   "id": "_fFmXH41Poi9",
   "metadata": {
    "id": "_fFmXH41Poi9"
   },
   "outputs": [],
   "source": [
    "# Perform oversampling using SMOTE\n",
    "smote = SMOTE(random_state=42)\n",
    "X_train_res, y_train_res = smote.fit_resample(X, y)"
   ]
  },
  {
   "cell_type": "code",
   "execution_count": 43,
   "id": "as9YVvZTPwqQ",
   "metadata": {
    "colab": {
     "base_uri": "https://localhost:8080/"
    },
    "id": "as9YVvZTPwqQ",
    "outputId": "e2acbf7a-17bc-4c4e-861a-11781abd4cf9"
   },
   "outputs": [
    {
     "data": {
      "text/plain": [
       "412128"
      ]
     },
     "execution_count": 43,
     "metadata": {},
     "output_type": "execute_result"
    }
   ],
   "source": [
    "X_train_res.shape[0] #new row count"
   ]
  },
  {
   "cell_type": "code",
   "execution_count": 44,
   "id": "JqQBgXi3P0I0",
   "metadata": {
    "colab": {
     "base_uri": "https://localhost:8080/"
    },
    "id": "JqQBgXi3P0I0",
    "outputId": "b95ef9d4-52ef-440a-bd6e-bc1152aff2dc"
   },
   "outputs": [
    {
     "data": {
      "text/plain": [
       "412128"
      ]
     },
     "execution_count": 44,
     "metadata": {},
     "output_type": "execute_result"
    }
   ],
   "source": [
    "y_train_res.shape[0] #new row count"
   ]
  },
  {
   "cell_type": "code",
   "execution_count": 45,
   "id": "AAebs9m6P8ZY",
   "metadata": {
    "colab": {
     "base_uri": "https://localhost:8080/"
    },
    "id": "AAebs9m6P8ZY",
    "outputId": "8a644cf1-3945-41df-e2bd-5f7af4889651"
   },
   "outputs": [
    {
     "data": {
      "text/plain": [
       "0.0    206064\n",
       "1.0    206064\n",
       "Name: HeartDiseaseorAttack, dtype: int64"
      ]
     },
     "execution_count": 45,
     "metadata": {},
     "output_type": "execute_result"
    }
   ],
   "source": [
    "y_train_res.value_counts() #new balance ratio in target variable"
   ]
  },
  {
   "cell_type": "code",
   "execution_count": 46,
   "id": "Mf8su3KqtEzC",
   "metadata": {
    "id": "Mf8su3KqtEzC"
   },
   "outputs": [],
   "source": [
    "# Split the dataset into training and testing sets\n",
    "X_train, X_test, y_train, y_test = train_test_split(X_train_res, y_train_res, test_size=0.3, random_state=42)"
   ]
  },
  {
   "cell_type": "code",
   "execution_count": 47,
   "id": "E4EDQDyKaSpg",
   "metadata": {
    "id": "E4EDQDyKaSpg"
   },
   "outputs": [],
   "source": [
    "# Feature Selection technique : Mutual Info Classifier\n",
    "selector = SelectKBest(mutual_info_classif, k=15)\n",
    "X_train_selected = selector.fit_transform(X_train, y_train)\n",
    "X_test_selected = selector.transform(X_test)"
   ]
  },
  {
   "cell_type": "code",
   "execution_count": 48,
   "id": "XV4DduZQexlL",
   "metadata": {
    "colab": {
     "base_uri": "https://localhost:8080/"
    },
    "id": "XV4DduZQexlL",
    "outputId": "2d799d5b-8870-432f-ca98-e32f06a0cbf4"
   },
   "outputs": [
    {
     "name": "stdout",
     "output_type": "stream",
     "text": [
      "Selected features: ['HighBP' 'HighChol' 'BMI' 'Smoker' 'Diabetes' 'PhysActivity' 'Fruits'\n",
      " 'Veggies' 'GenHlth' 'PhysHlth' 'DiffWalk' 'Sex' 'Age' 'Education'\n",
      " 'Income']\n"
     ]
    }
   ],
   "source": [
    "#To understand which features were selected\n",
    "\n",
    "selected_mask = selector.get_support()\n",
    "\n",
    "# get the names of the selected features\n",
    "feature_names = np.array(X_train.columns)\n",
    "selected_features = feature_names[selected_mask]\n",
    "\n",
    "print(\"Selected features:\", selected_features)"
   ]
  },
  {
   "cell_type": "code",
   "execution_count": 49,
   "id": "GB2oMhPRi5yv",
   "metadata": {
    "id": "GB2oMhPRi5yv"
   },
   "outputs": [],
   "source": [
    "# Feature Scaling : Minmax Normalization\n",
    "# Assuming X_train_selected and X_test_selected are defined\n",
    "scaler = MinMaxScaler()\n",
    "\n",
    "# fit the scaler on the training data\n",
    "scaler.fit(X_train_selected)\n",
    "\n",
    "# transform the training and test data using the fitted scaler\n",
    "X_train_norm = scaler.transform(X_train_selected)\n",
    "X_test_norm = scaler.transform(X_test_selected)"
   ]
  },
  {
   "cell_type": "code",
   "execution_count": 50,
   "id": "6xo2ZPZ9O3fo",
   "metadata": {
    "colab": {
     "base_uri": "https://localhost:8080/"
    },
    "id": "6xo2ZPZ9O3fo",
    "outputId": "a9aa670e-d4c7-419f-b20d-20aae0e17e78"
   },
   "outputs": [
    {
     "name": "stdout",
     "output_type": "stream",
     "text": [
      "Best hyperparameters: {'n_neighbors': 1}\n",
      "Best score: 0.9071715024931561\n"
     ]
    }
   ],
   "source": [
    "# Define the KNN classifier\n",
    "knn = KNeighborsClassifier()\n",
    "\n",
    "# Define the hyperparameter grid for grid search\n",
    "param_grid = {'n_neighbors': [1, 3, 5, 7, 9]}\n",
    "\n",
    "# Perform grid search using cross-validation\n",
    "grid_search = GridSearchCV(knn, param_grid, cv=5)\n",
    "grid_search.fit(X_train_norm, y_train)\n",
    "\n",
    "# Print the best hyperparameters and score\n",
    "print('Best hyperparameters:', grid_search.best_params_)\n",
    "print('Best score:', grid_search.best_score_)"
   ]
  },
  {
   "cell_type": "code",
   "execution_count": 51,
   "id": "2T9WJ3H8PELK",
   "metadata": {
    "id": "2T9WJ3H8PELK"
   },
   "outputs": [],
   "source": [
    "# Evaluate the model on the test set\n",
    "y_pred = grid_search.predict(X_test_norm)"
   ]
  },
  {
   "cell_type": "code",
   "execution_count": 52,
   "id": "mgFJolCwPH1A",
   "metadata": {
    "colab": {
     "base_uri": "https://localhost:8080/"
    },
    "id": "mgFJolCwPH1A",
    "outputId": "4f77389b-8e11-4f3f-9261-00bc54f467df"
   },
   "outputs": [
    {
     "name": "stdout",
     "output_type": "stream",
     "text": [
      "Confusion matrix:\n",
      " [[55559  6447]\n",
      " [ 3465 58168]]\n",
      "Accuracy: 0.9198311212481498\n",
      "Precision: 0.9002244060976553\n",
      "Recall: 0.9437801177940389\n",
      "F1 score: 0.9214878651542994\n",
      "Mean squared error: 0.08016887875185015\n"
     ]
    }
   ],
   "source": [
    "# Print the confusion matrix\n",
    "print('Confusion matrix:\\n', confusion_matrix(y_test, y_pred))\n",
    "\n",
    "# Print the accuracy\n",
    "print('Accuracy:', accuracy_score(y_test, y_pred))\n",
    "\n",
    "# Print the precision\n",
    "print('Precision:', precision_score(y_test, y_pred))\n",
    "\n",
    "# Print the recall\n",
    "print('Recall:', recall_score(y_test, y_pred))\n",
    "\n",
    "# Print the F1 score\n",
    "print('F1 score:', f1_score(y_test, y_pred))\n",
    "\n",
    "# Print the mean squared error\n",
    "print('Mean squared error:', mean_squared_error(y_test, y_pred))"
   ]
  }
 ],
 "metadata": {
  "accelerator": "GPU",
  "colab": {
   "provenance": []
  },
  "gpuClass": "standard",
  "kernelspec": {
   "display_name": "Python 3 (ipykernel)",
   "language": "python",
   "name": "python3"
  },
  "language_info": {
   "codemirror_mode": {
    "name": "ipython",
    "version": 3
   },
   "file_extension": ".py",
   "mimetype": "text/x-python",
   "name": "python",
   "nbconvert_exporter": "python",
   "pygments_lexer": "ipython3",
   "version": "3.10.7"
  }
 },
 "nbformat": 4,
 "nbformat_minor": 5
}
