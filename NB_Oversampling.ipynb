{
 "cells": [
  {
   "cell_type": "code",
   "execution_count": 1,
   "id": "gVoD09AK3qaf",
   "metadata": {
    "id": "gVoD09AK3qaf"
   },
   "outputs": [],
   "source": [
    "# Import required libraries\n",
    "import pandas as pd\n",
    "from sklearn.model_selection import train_test_split\n",
    "from imblearn.over_sampling import SMOTE\n",
    "from sklearn.naive_bayes import GaussianNB\n",
    "from sklearn.metrics import confusion_matrix, accuracy_score, precision_score, recall_score, f1_score, mean_squared_error"
   ]
  },
  {
   "cell_type": "code",
   "execution_count": 2,
   "id": "O1vfiONeHLlw",
   "metadata": {
    "id": "O1vfiONeHLlw"
   },
   "outputs": [],
   "source": [
    "# Load the dataset\n",
    "df = pd.read_csv(\"cleanheart_dataset.csv\")"
   ]
  },
  {
   "cell_type": "code",
   "execution_count": 3,
   "id": "6ffvNDt4HRKg",
   "metadata": {
    "id": "6ffvNDt4HRKg"
   },
   "outputs": [],
   "source": [
    "# Split data into features and target\n",
    "X = df.drop('HeartDiseaseorAttack', axis=1)\n",
    "y = df['HeartDiseaseorAttack']"
   ]
  },
  {
   "cell_type": "code",
   "execution_count": 4,
   "id": "005dc0c7",
   "metadata": {},
   "outputs": [],
   "source": [
    "X_new = X[[\"GenHlth\", \"Age\",\"DiffWalk\", \"HighBP\", \"Stroke\", \"HighChol\", \"Diabetes\", \"PhysHlth\", \"Smoker\", \"Sex\", \"MentHlth\",\"CholCheck\"]]"
   ]
  },
  {
   "cell_type": "code",
   "execution_count": 5,
   "id": "881c318e",
   "metadata": {},
   "outputs": [],
   "source": [
    "# Split data into training and testing sets\n",
    "X_train, X_test, y_train, y_test = train_test_split(X_new, y, test_size=0.2, random_state=42)"
   ]
  },
  {
   "cell_type": "code",
   "execution_count": 6,
   "id": "BrkJ9fa-HedJ",
   "metadata": {
    "id": "BrkJ9fa-HedJ"
   },
   "outputs": [],
   "source": [
    "# Oversample using SMOTE\n",
    "smote = SMOTE(random_state=42)\n",
    "X_train, y_train = smote.fit_resample(X_train, y_train)"
   ]
  },
  {
   "cell_type": "code",
   "execution_count": 7,
   "id": "-WXW-gE0HghS",
   "metadata": {
    "colab": {
     "base_uri": "https://localhost:8080/",
     "height": 75
    },
    "id": "-WXW-gE0HghS",
    "outputId": "d5fbdb7b-821e-47f5-ed37-9be4be621ba3"
   },
   "outputs": [
    {
     "data": {
      "text/plain": [
       "GaussianNB()"
      ]
     },
     "execution_count": 7,
     "metadata": {},
     "output_type": "execute_result"
    }
   ],
   "source": [
    "# Build the Naive Bayes model\n",
    "nb = GaussianNB()\n",
    "nb.fit(X_train, y_train)"
   ]
  },
  {
   "cell_type": "code",
   "execution_count": 8,
   "id": "hY2kDyfeHiS9",
   "metadata": {
    "id": "hY2kDyfeHiS9"
   },
   "outputs": [],
   "source": [
    "# Make predictions on test set\n",
    "y_pred = nb.predict(X_test)"
   ]
  },
  {
   "cell_type": "code",
   "execution_count": 9,
   "id": "RgXlph5oHkNG",
   "metadata": {
    "colab": {
     "base_uri": "https://localhost:8080/"
    },
    "id": "RgXlph5oHkNG",
    "outputId": "b512031c-07d1-43dd-91cf-bc9583541a4f"
   },
   "outputs": [
    {
     "name": "stdout",
     "output_type": "stream",
     "text": [
      "Confusion Matrix:\n",
      " [[30080 11189]\n",
      " [ 1176  3512]]\n",
      "Accuracy: 0.7309441434384316\n",
      "Precision: 0.23889531324399702\n",
      "Recall: 0.7491467576791809\n",
      "F1 Score: 0.36226726494404043\n",
      "Mean Squared Error: 0.26905585656156844\n"
     ]
    }
   ],
   "source": [
    "# Calculate evaluation metrics\n",
    "cm = confusion_matrix(y_test, y_pred)\n",
    "accuracy = accuracy_score(y_test, y_pred)\n",
    "precision = precision_score(y_test, y_pred)\n",
    "recall = recall_score(y_test, y_pred)\n",
    "f1 = f1_score(y_test, y_pred)\n",
    "mse = mean_squared_error(y_test, y_pred)\n",
    "\n",
    "# Print the evaluation metrics\n",
    "print(\"Confusion Matrix:\\n\", cm)\n",
    "print(\"Accuracy:\", accuracy)\n",
    "print(\"Precision:\", precision)\n",
    "print(\"Recall:\", recall)\n",
    "print(\"F1 Score:\", f1)\n",
    "print(\"Mean Squared Error:\", mse)"
   ]
  }
 ],
 "metadata": {
  "colab": {
   "provenance": []
  },
  "gpuClass": "standard",
  "kernelspec": {
   "display_name": "Python 3 (ipykernel)",
   "language": "python",
   "name": "python3"
  },
  "language_info": {
   "codemirror_mode": {
    "name": "ipython",
    "version": 3
   },
   "file_extension": ".py",
   "mimetype": "text/x-python",
   "name": "python",
   "nbconvert_exporter": "python",
   "pygments_lexer": "ipython3",
   "version": "3.10.7"
  }
 },
 "nbformat": 4,
 "nbformat_minor": 5
}
