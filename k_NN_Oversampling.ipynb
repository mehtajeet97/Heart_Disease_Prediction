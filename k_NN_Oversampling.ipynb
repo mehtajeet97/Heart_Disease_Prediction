{
  "cells": [
    {
      "cell_type": "code",
      "execution_count": 1,
      "id": "tPWLZI4xYvO4",
      "metadata": {
        "colab": {
          "base_uri": "https://localhost:8080/",
          "height": 74
        },
        "id": "tPWLZI4xYvO4",
        "outputId": "93c1bc9b-c4cd-49ff-9019-51322ff434e0"
      },
      "outputs": [
        {
          "data": {
            "text/html": [
              "\n",
              "     <input type=\"file\" id=\"files-94abbe54-afe9-4a12-bc42-e23b7c8ad4ce\" name=\"files[]\" multiple disabled\n",
              "        style=\"border:none\" />\n",
              "     <output id=\"result-94abbe54-afe9-4a12-bc42-e23b7c8ad4ce\">\n",
              "      Upload widget is only available when the cell has been executed in the\n",
              "      current browser session. Please rerun this cell to enable.\n",
              "      </output>\n",
              "      <script>// Copyright 2017 Google LLC\n",
              "//\n",
              "// Licensed under the Apache License, Version 2.0 (the \"License\");\n",
              "// you may not use this file except in compliance with the License.\n",
              "// You may obtain a copy of the License at\n",
              "//\n",
              "//      http://www.apache.org/licenses/LICENSE-2.0\n",
              "//\n",
              "// Unless required by applicable law or agreed to in writing, software\n",
              "// distributed under the License is distributed on an \"AS IS\" BASIS,\n",
              "// WITHOUT WARRANTIES OR CONDITIONS OF ANY KIND, either express or implied.\n",
              "// See the License for the specific language governing permissions and\n",
              "// limitations under the License.\n",
              "\n",
              "/**\n",
              " * @fileoverview Helpers for google.colab Python module.\n",
              " */\n",
              "(function(scope) {\n",
              "function span(text, styleAttributes = {}) {\n",
              "  const element = document.createElement('span');\n",
              "  element.textContent = text;\n",
              "  for (const key of Object.keys(styleAttributes)) {\n",
              "    element.style[key] = styleAttributes[key];\n",
              "  }\n",
              "  return element;\n",
              "}\n",
              "\n",
              "// Max number of bytes which will be uploaded at a time.\n",
              "const MAX_PAYLOAD_SIZE = 100 * 1024;\n",
              "\n",
              "function _uploadFiles(inputId, outputId) {\n",
              "  const steps = uploadFilesStep(inputId, outputId);\n",
              "  const outputElement = document.getElementById(outputId);\n",
              "  // Cache steps on the outputElement to make it available for the next call\n",
              "  // to uploadFilesContinue from Python.\n",
              "  outputElement.steps = steps;\n",
              "\n",
              "  return _uploadFilesContinue(outputId);\n",
              "}\n",
              "\n",
              "// This is roughly an async generator (not supported in the browser yet),\n",
              "// where there are multiple asynchronous steps and the Python side is going\n",
              "// to poll for completion of each step.\n",
              "// This uses a Promise to block the python side on completion of each step,\n",
              "// then passes the result of the previous step as the input to the next step.\n",
              "function _uploadFilesContinue(outputId) {\n",
              "  const outputElement = document.getElementById(outputId);\n",
              "  const steps = outputElement.steps;\n",
              "\n",
              "  const next = steps.next(outputElement.lastPromiseValue);\n",
              "  return Promise.resolve(next.value.promise).then((value) => {\n",
              "    // Cache the last promise value to make it available to the next\n",
              "    // step of the generator.\n",
              "    outputElement.lastPromiseValue = value;\n",
              "    return next.value.response;\n",
              "  });\n",
              "}\n",
              "\n",
              "/**\n",
              " * Generator function which is called between each async step of the upload\n",
              " * process.\n",
              " * @param {string} inputId Element ID of the input file picker element.\n",
              " * @param {string} outputId Element ID of the output display.\n",
              " * @return {!Iterable<!Object>} Iterable of next steps.\n",
              " */\n",
              "function* uploadFilesStep(inputId, outputId) {\n",
              "  const inputElement = document.getElementById(inputId);\n",
              "  inputElement.disabled = false;\n",
              "\n",
              "  const outputElement = document.getElementById(outputId);\n",
              "  outputElement.innerHTML = '';\n",
              "\n",
              "  const pickedPromise = new Promise((resolve) => {\n",
              "    inputElement.addEventListener('change', (e) => {\n",
              "      resolve(e.target.files);\n",
              "    });\n",
              "  });\n",
              "\n",
              "  const cancel = document.createElement('button');\n",
              "  inputElement.parentElement.appendChild(cancel);\n",
              "  cancel.textContent = 'Cancel upload';\n",
              "  const cancelPromise = new Promise((resolve) => {\n",
              "    cancel.onclick = () => {\n",
              "      resolve(null);\n",
              "    };\n",
              "  });\n",
              "\n",
              "  // Wait for the user to pick the files.\n",
              "  const files = yield {\n",
              "    promise: Promise.race([pickedPromise, cancelPromise]),\n",
              "    response: {\n",
              "      action: 'starting',\n",
              "    }\n",
              "  };\n",
              "\n",
              "  cancel.remove();\n",
              "\n",
              "  // Disable the input element since further picks are not allowed.\n",
              "  inputElement.disabled = true;\n",
              "\n",
              "  if (!files) {\n",
              "    return {\n",
              "      response: {\n",
              "        action: 'complete',\n",
              "      }\n",
              "    };\n",
              "  }\n",
              "\n",
              "  for (const file of files) {\n",
              "    const li = document.createElement('li');\n",
              "    li.append(span(file.name, {fontWeight: 'bold'}));\n",
              "    li.append(span(\n",
              "        `(${file.type || 'n/a'}) - ${file.size} bytes, ` +\n",
              "        `last modified: ${\n",
              "            file.lastModifiedDate ? file.lastModifiedDate.toLocaleDateString() :\n",
              "                                    'n/a'} - `));\n",
              "    const percent = span('0% done');\n",
              "    li.appendChild(percent);\n",
              "\n",
              "    outputElement.appendChild(li);\n",
              "\n",
              "    const fileDataPromise = new Promise((resolve) => {\n",
              "      const reader = new FileReader();\n",
              "      reader.onload = (e) => {\n",
              "        resolve(e.target.result);\n",
              "      };\n",
              "      reader.readAsArrayBuffer(file);\n",
              "    });\n",
              "    // Wait for the data to be ready.\n",
              "    let fileData = yield {\n",
              "      promise: fileDataPromise,\n",
              "      response: {\n",
              "        action: 'continue',\n",
              "      }\n",
              "    };\n",
              "\n",
              "    // Use a chunked sending to avoid message size limits. See b/62115660.\n",
              "    let position = 0;\n",
              "    do {\n",
              "      const length = Math.min(fileData.byteLength - position, MAX_PAYLOAD_SIZE);\n",
              "      const chunk = new Uint8Array(fileData, position, length);\n",
              "      position += length;\n",
              "\n",
              "      const base64 = btoa(String.fromCharCode.apply(null, chunk));\n",
              "      yield {\n",
              "        response: {\n",
              "          action: 'append',\n",
              "          file: file.name,\n",
              "          data: base64,\n",
              "        },\n",
              "      };\n",
              "\n",
              "      let percentDone = fileData.byteLength === 0 ?\n",
              "          100 :\n",
              "          Math.round((position / fileData.byteLength) * 100);\n",
              "      percent.textContent = `${percentDone}% done`;\n",
              "\n",
              "    } while (position < fileData.byteLength);\n",
              "  }\n",
              "\n",
              "  // All done.\n",
              "  yield {\n",
              "    response: {\n",
              "      action: 'complete',\n",
              "    }\n",
              "  };\n",
              "}\n",
              "\n",
              "scope.google = scope.google || {};\n",
              "scope.google.colab = scope.google.colab || {};\n",
              "scope.google.colab._files = {\n",
              "  _uploadFiles,\n",
              "  _uploadFilesContinue,\n",
              "};\n",
              "})(self);\n",
              "</script> "
            ],
            "text/plain": [
              "<IPython.core.display.HTML object>"
            ]
          },
          "metadata": {},
          "output_type": "display_data"
        },
        {
          "name": "stdout",
          "output_type": "stream",
          "text": [
            "Saving cleanheart_dataset.csv to cleanheart_dataset.csv\n"
          ]
        }
      ],
      "source": [
        "from google.colab import files\n",
        "uploaded = files.upload()"
      ]
    },
    {
      "cell_type": "code",
      "execution_count": 2,
      "id": "EV1a3C-vs6h5",
      "metadata": {
        "id": "EV1a3C-vs6h5"
      },
      "outputs": [],
      "source": [
        "from imblearn.over_sampling import SMOTE\n",
        "from sklearn.model_selection import train_test_split, GridSearchCV\n",
        "from sklearn.neighbors import KNeighborsClassifier\n",
        "from sklearn.metrics import confusion_matrix, accuracy_score, precision_score, recall_score, f1_score, mean_squared_error\n",
        "import pandas as pd"
      ]
    },
    {
      "cell_type": "code",
      "execution_count": 3,
      "id": "XBv2AZeUs9xk",
      "metadata": {
        "id": "XBv2AZeUs9xk"
      },
      "outputs": [],
      "source": [
        "# Load the dataset\n",
        "df = pd.read_csv(\"cleanheart_dataset.csv\")"
      ]
    },
    {
      "cell_type": "code",
      "execution_count": 4,
      "id": "0CAg7QNStAvi",
      "metadata": {
        "id": "0CAg7QNStAvi"
      },
      "outputs": [],
      "source": [
        "# Separate the features and target variable\n",
        "X = df.drop(\"HeartDiseaseorAttack\", axis=1)\n",
        "y = df[\"HeartDiseaseorAttack\"]"
      ]
    },
    {
      "cell_type": "code",
      "execution_count": 5,
      "id": "_fFmXH41Poi9",
      "metadata": {
        "id": "_fFmXH41Poi9"
      },
      "outputs": [],
      "source": [
        "# Perform oversampling using SMOTE\n",
        "smote = SMOTE(random_state=37)\n",
        "X_train_res, y_train_res = smote.fit_resample(X, y)"
      ]
    },
    {
      "cell_type": "code",
      "execution_count": 6,
      "id": "as9YVvZTPwqQ",
      "metadata": {
        "colab": {
          "base_uri": "https://localhost:8080/"
        },
        "id": "as9YVvZTPwqQ",
        "outputId": "f1205148-3e85-4c73-b51b-9b24940d4070"
      },
      "outputs": [
        {
          "data": {
            "text/plain": [
              "412128"
            ]
          },
          "execution_count": 6,
          "metadata": {},
          "output_type": "execute_result"
        }
      ],
      "source": [
        "X_train_res.shape[0] #new row count"
      ]
    },
    {
      "cell_type": "code",
      "execution_count": 7,
      "id": "JqQBgXi3P0I0",
      "metadata": {
        "colab": {
          "base_uri": "https://localhost:8080/"
        },
        "id": "JqQBgXi3P0I0",
        "outputId": "f4d74165-04da-478b-ec41-b631670d5002"
      },
      "outputs": [
        {
          "data": {
            "text/plain": [
              "412128"
            ]
          },
          "execution_count": 7,
          "metadata": {},
          "output_type": "execute_result"
        }
      ],
      "source": [
        "y_train_res.shape[0] #new row count"
      ]
    },
    {
      "cell_type": "code",
      "execution_count": 8,
      "id": "kQou3PTDP3FV",
      "metadata": {
        "colab": {
          "base_uri": "https://localhost:8080/"
        },
        "id": "kQou3PTDP3FV",
        "outputId": "6244aefe-93e8-471e-e33b-49e39d2bbc9f"
      },
      "outputs": [
        {
          "data": {
            "text/plain": [
              "HighBP  HighChol  CholCheck  BMI   Smoker  Stroke  Diabetes  PhysActivity  Fruits  Veggies  HvyAlcoholConsump  AnyHealthcare  NoDocbcCost  GenHlth  MentHlth  PhysHlth  DiffWalk  Sex  Age   Education  Income\n",
              "1.0     0.0       1.0        26.0  0.0     0.0     0.0       1.0           1.0     1.0      0.0                1.0            0.0          3.0      0.0       0.0       0.0       1.0  10.0  6.0        8.0       2\n",
              "0.0     1.0       1.0        21.0  0.0     0.0     0.0       1.0           1.0     1.0      0.0                1.0            0.0          1.0      0.0       0.0       0.0       1.0  8.0   6.0        8.0       2\n",
              "1.0     1.0       1.0        27.0  1.0     0.0     0.0       1.0           1.0     1.0      0.0                1.0            0.0          2.0      0.0       0.0       0.0       0.0  10.0  6.0        8.0       2\n",
              "                             30.0  1.0     0.0     0.0       1.0           0.0     1.0      0.0                1.0            0.0          2.0      0.0       0.0       0.0       1.0  8.0   4.0        8.0       2\n",
              "        0.0       1.0        26.0  0.0     0.0     0.0       1.0           1.0     1.0      0.0                1.0            0.0          1.0      0.0       0.0       0.0       1.0  10.0  6.0        8.0       2\n",
              "                                                                                                                                                                                                                 ..\n",
              "0.0     1.0       1.0        31.0  1.0     0.0     0.0       1.0           1.0     1.0      0.0                1.0            0.0          2.0      0.0       0.0       0.0       0.0  12.0  6.0        6.0       1\n",
              "                                                                                                                                                                                             4.0        5.0       1\n",
              "                                                                                                                                                                                                        4.0       1\n",
              "                                                                                                                                                                                       11.0  5.0        6.0       1\n",
              "1.0     1.0       1.0        98.0  1.0     1.0     2.0       0.0           1.0     1.0      0.0                1.0            0.0          4.0      15.0      10.0      1.0       0.0  11.0  5.0        6.0       1\n",
              "Length: 411052, dtype: int64"
            ]
          },
          "execution_count": 8,
          "metadata": {},
          "output_type": "execute_result"
        }
      ],
      "source": [
        "X_train_res.value_counts() #new balance ratio in target variable"
      ]
    },
    {
      "cell_type": "code",
      "execution_count": 9,
      "id": "AAebs9m6P8ZY",
      "metadata": {
        "colab": {
          "base_uri": "https://localhost:8080/"
        },
        "id": "AAebs9m6P8ZY",
        "outputId": "d652b294-fdf1-4a78-f4af-9f76fff24011"
      },
      "outputs": [
        {
          "data": {
            "text/plain": [
              "0.0    206064\n",
              "1.0    206064\n",
              "Name: HeartDiseaseorAttack, dtype: int64"
            ]
          },
          "execution_count": 9,
          "metadata": {},
          "output_type": "execute_result"
        }
      ],
      "source": [
        "y_train_res.value_counts() #new balance ratio in target variable"
      ]
    },
    {
      "cell_type": "code",
      "execution_count": 10,
      "id": "Mf8su3KqtEzC",
      "metadata": {
        "id": "Mf8su3KqtEzC"
      },
      "outputs": [],
      "source": [
        "# Split the dataset into training and testing sets\n",
        "X_train, X_test, y_train, y_test = train_test_split(X_train_res, y_train_res, test_size=0.3, random_state=42)"
      ]
    },
    {
      "cell_type": "code",
      "execution_count": 11,
      "id": "6xo2ZPZ9O3fo",
      "metadata": {
        "colab": {
          "base_uri": "https://localhost:8080/"
        },
        "id": "6xo2ZPZ9O3fo",
        "outputId": "60f70bab-ecea-4063-ff9f-a652cc1defc6"
      },
      "outputs": [
        {
          "name": "stdout",
          "output_type": "stream",
          "text": [
            "Best hyperparameters: {'n_neighbors': 1}\n",
            "Best score: 0.8789624583606301\n"
          ]
        }
      ],
      "source": [
        "# Define the KNN classifier\n",
        "knn = KNeighborsClassifier()\n",
        "\n",
        "# Define the hyperparameter grid for grid search\n",
        "param_grid = {'n_neighbors': [1, 3, 5, 7, 9, 11, 13, 15]}\n",
        "\n",
        "# Perform grid search using cross-validation\n",
        "grid_search = GridSearchCV(knn, param_grid, cv=7)\n",
        "grid_search.fit(X_train, y_train)\n",
        "\n",
        "# Print the best hyperparameters and score\n",
        "print('Best hyperparameters:', grid_search.best_params_)\n",
        "print('Best score:', grid_search.best_score_)"
      ]
    },
    {
      "cell_type": "code",
      "execution_count": 12,
      "id": "2T9WJ3H8PELK",
      "metadata": {
        "id": "2T9WJ3H8PELK"
      },
      "outputs": [],
      "source": [
        "# Evaluate the model on the test set\n",
        "y_pred = grid_search.predict(X_test)"
      ]
    },
    {
      "cell_type": "code",
      "execution_count": 13,
      "id": "mgFJolCwPH1A",
      "metadata": {
        "colab": {
          "base_uri": "https://localhost:8080/"
        },
        "id": "mgFJolCwPH1A",
        "outputId": "b72a74e6-0478-4867-ea30-3ab3f463ec0d"
      },
      "outputs": [
        {
          "name": "stdout",
          "output_type": "stream",
          "text": [
            "Confusion matrix:\n",
            " [[48865 13141]\n",
            " [  748 60885]]\n",
            "Accuracy: 0.8876648953809073\n",
            "Precision: 0.822481290357442\n",
            "Recall: 0.9878636444761735\n",
            "F1 score: 0.8976182929256444\n",
            "Mean squared error: 0.11233510461909268\n"
          ]
        }
      ],
      "source": [
        "# Print the confusion matrix\n",
        "print('Confusion matrix:\\n', confusion_matrix(y_test, y_pred))\n",
        "\n",
        "# Print the accuracy\n",
        "print('Accuracy:', accuracy_score(y_test, y_pred))\n",
        "\n",
        "# Print the precision\n",
        "print('Precision:', precision_score(y_test, y_pred))\n",
        "\n",
        "# Print the recall\n",
        "print('Recall:', recall_score(y_test, y_pred))\n",
        "\n",
        "# Print the F1 score\n",
        "print('F1 score:', f1_score(y_test, y_pred))\n",
        "\n",
        "# Print the mean squared error\n",
        "print('Mean squared error:', mean_squared_error(y_test, y_pred))"
      ]
    }
  ],
  "metadata": {
    "accelerator": "GPU",
    "colab": {
      "provenance": []
    },
    "gpuClass": "standard",
    "kernelspec": {
      "display_name": "Python 3 (ipykernel)",
      "language": "python",
      "name": "python3"
    },
    "language_info": {
      "codemirror_mode": {
        "name": "ipython",
        "version": 3
      },
      "file_extension": ".py",
      "mimetype": "text/x-python",
      "name": "python",
      "nbconvert_exporter": "python",
      "pygments_lexer": "ipython3",
      "version": "3.10.7"
    }
  },
  "nbformat": 4,
  "nbformat_minor": 5
}
